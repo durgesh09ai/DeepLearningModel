{
 "cells": [
  {
   "cell_type": "code",
   "execution_count": 19,
   "id": "0b0b328b-a9cc-4bae-a945-5872fe567715",
   "metadata": {},
   "outputs": [],
   "source": [
    "import numpy as np\n",
    "import tensorflow as tf\n",
    "from tensorflow.keras.models import Sequential\n",
    "from tensorflow.keras.layers import SimpleRNN, Dense\n",
    "from sklearn.preprocessing import MinMaxScaler\n",
    "from sklearn.model_selection import train_test_split\n",
    "import pandas as pd\n"
   ]
  },
  {
   "cell_type": "code",
   "execution_count": 37,
   "id": "44548b9f-8085-4305-9fe0-58985991134d",
   "metadata": {},
   "outputs": [
    {
     "data": {
      "text/html": [
       "<div>\n",
       "<style scoped>\n",
       "    .dataframe tbody tr th:only-of-type {\n",
       "        vertical-align: middle;\n",
       "    }\n",
       "\n",
       "    .dataframe tbody tr th {\n",
       "        vertical-align: top;\n",
       "    }\n",
       "\n",
       "    .dataframe thead th {\n",
       "        text-align: right;\n",
       "    }\n",
       "</style>\n",
       "<table border=\"1\" class=\"dataframe\">\n",
       "  <thead>\n",
       "    <tr style=\"text-align: right;\">\n",
       "      <th></th>\n",
       "      <th>instant</th>\n",
       "      <th>dteday</th>\n",
       "      <th>season</th>\n",
       "      <th>yr</th>\n",
       "      <th>mnth</th>\n",
       "      <th>holiday</th>\n",
       "      <th>weekday</th>\n",
       "      <th>workingday</th>\n",
       "      <th>weathersit</th>\n",
       "      <th>temp</th>\n",
       "      <th>atemp</th>\n",
       "      <th>hum</th>\n",
       "      <th>windspeed</th>\n",
       "      <th>rentals</th>\n",
       "    </tr>\n",
       "  </thead>\n",
       "  <tbody>\n",
       "    <tr>\n",
       "      <th>0</th>\n",
       "      <td>1</td>\n",
       "      <td>1/1/2011</td>\n",
       "      <td>1</td>\n",
       "      <td>0</td>\n",
       "      <td>1</td>\n",
       "      <td>0</td>\n",
       "      <td>6</td>\n",
       "      <td>0</td>\n",
       "      <td>2</td>\n",
       "      <td>0.344167</td>\n",
       "      <td>0.363625</td>\n",
       "      <td>0.805833</td>\n",
       "      <td>0.160446</td>\n",
       "      <td>331</td>\n",
       "    </tr>\n",
       "    <tr>\n",
       "      <th>1</th>\n",
       "      <td>2</td>\n",
       "      <td>1/2/2011</td>\n",
       "      <td>1</td>\n",
       "      <td>0</td>\n",
       "      <td>1</td>\n",
       "      <td>0</td>\n",
       "      <td>0</td>\n",
       "      <td>0</td>\n",
       "      <td>2</td>\n",
       "      <td>0.363478</td>\n",
       "      <td>0.353739</td>\n",
       "      <td>0.696087</td>\n",
       "      <td>0.248539</td>\n",
       "      <td>131</td>\n",
       "    </tr>\n",
       "    <tr>\n",
       "      <th>2</th>\n",
       "      <td>3</td>\n",
       "      <td>1/3/2011</td>\n",
       "      <td>1</td>\n",
       "      <td>0</td>\n",
       "      <td>1</td>\n",
       "      <td>0</td>\n",
       "      <td>1</td>\n",
       "      <td>1</td>\n",
       "      <td>1</td>\n",
       "      <td>0.196364</td>\n",
       "      <td>0.189405</td>\n",
       "      <td>0.437273</td>\n",
       "      <td>0.248309</td>\n",
       "      <td>120</td>\n",
       "    </tr>\n",
       "    <tr>\n",
       "      <th>3</th>\n",
       "      <td>4</td>\n",
       "      <td>1/4/2011</td>\n",
       "      <td>1</td>\n",
       "      <td>0</td>\n",
       "      <td>1</td>\n",
       "      <td>0</td>\n",
       "      <td>2</td>\n",
       "      <td>1</td>\n",
       "      <td>1</td>\n",
       "      <td>0.200000</td>\n",
       "      <td>0.212122</td>\n",
       "      <td>0.590435</td>\n",
       "      <td>0.160296</td>\n",
       "      <td>108</td>\n",
       "    </tr>\n",
       "    <tr>\n",
       "      <th>4</th>\n",
       "      <td>5</td>\n",
       "      <td>1/5/2011</td>\n",
       "      <td>1</td>\n",
       "      <td>0</td>\n",
       "      <td>1</td>\n",
       "      <td>0</td>\n",
       "      <td>3</td>\n",
       "      <td>1</td>\n",
       "      <td>1</td>\n",
       "      <td>0.226957</td>\n",
       "      <td>0.229270</td>\n",
       "      <td>0.436957</td>\n",
       "      <td>0.186900</td>\n",
       "      <td>82</td>\n",
       "    </tr>\n",
       "  </tbody>\n",
       "</table>\n",
       "</div>"
      ],
      "text/plain": [
       "   instant    dteday  season  yr  mnth  holiday  weekday  workingday  \\\n",
       "0        1  1/1/2011       1   0     1        0        6           0   \n",
       "1        2  1/2/2011       1   0     1        0        0           0   \n",
       "2        3  1/3/2011       1   0     1        0        1           1   \n",
       "3        4  1/4/2011       1   0     1        0        2           1   \n",
       "4        5  1/5/2011       1   0     1        0        3           1   \n",
       "\n",
       "   weathersit      temp     atemp       hum  windspeed  rentals  \n",
       "0           2  0.344167  0.363625  0.805833   0.160446      331  \n",
       "1           2  0.363478  0.353739  0.696087   0.248539      131  \n",
       "2           1  0.196364  0.189405  0.437273   0.248309      120  \n",
       "3           1  0.200000  0.212122  0.590435   0.160296      108  \n",
       "4           1  0.226957  0.229270  0.436957   0.186900       82  "
      ]
     },
     "execution_count": 37,
     "metadata": {},
     "output_type": "execute_result"
    }
   ],
   "source": [
    "bike_data = pd.read_csv('data/daily-bike-share.csv')\n",
    "bike_data.head()"
   ]
  },
  {
   "cell_type": "markdown",
   "id": "061bba2b-8d58-4c28-aba8-5222cad0abae",
   "metadata": {},
   "source": [
    "## Select inputs and target\n"
   ]
  },
  {
   "cell_type": "code",
   "execution_count": 72,
   "id": "205ac00d-bd4b-45c7-975d-c1864fb1fb83",
   "metadata": {},
   "outputs": [],
   "source": [
    "selected_features = ['season', 'yr', 'mnth', 'holiday', 'weekday', 'workingday', 'weathersit', 'temp', 'atemp', 'hum', 'windspeed']\n",
    "target = 'rentals'\n",
    "data = bike_data[selected_features].values\n",
    "labels = bike_data[target]\n",
    "\n"
   ]
  },
  {
   "cell_type": "markdown",
   "id": "c2c3b7ab-ba9c-4078-a3f0-414173e3fb2f",
   "metadata": {},
   "source": [
    "## Normalize the feature"
   ]
  },
  {
   "cell_type": "code",
   "execution_count": 63,
   "id": "cd2b2ed8-a715-474a-96d2-3e8cfe8ba883",
   "metadata": {},
   "outputs": [],
   "source": [
    "scaler = MinMaxScaler()\n",
    "X_scaled = scaler.fit_transform(data)"
   ]
  },
  {
   "cell_type": "markdown",
   "id": "7fce4c9b-1aff-4ca0-ab1c-7313c51c24c5",
   "metadata": {},
   "source": [
    "## Split the data into training and testing sets\n"
   ]
  },
  {
   "cell_type": "code",
   "execution_count": 64,
   "id": "dc5596d7-b16d-46d5-99cb-25db6a02e4fb",
   "metadata": {},
   "outputs": [],
   "source": [
    "X_train, X_test, y_train, y_test = train_test_split(X_scaled, labels, test_size=0.2, random_state=42)"
   ]
  },
  {
   "cell_type": "markdown",
   "id": "9375e6b8-0b7c-4f47-aede-5dfe90bfcb64",
   "metadata": {},
   "source": [
    "## Reshape the input for RNN"
   ]
  },
  {
   "cell_type": "code",
   "execution_count": 65,
   "id": "d3bf56e5-5925-48f4-916e-0666c3618eca",
   "metadata": {},
   "outputs": [],
   "source": [
    "X_train = X_train.reshape((X_train.shape[0], 1, X_train.shape[1]))\n",
    "X_test = X_test.reshape((X_test.shape[0], 1, X_test.shape[1]))"
   ]
  },
  {
   "cell_type": "markdown",
   "id": "9b670bca-ecff-406d-b116-1e050d814fcd",
   "metadata": {},
   "source": [
    "## Build the RNN model"
   ]
  },
  {
   "cell_type": "code",
   "execution_count": 66,
   "id": "86ce22a3-8d0d-472d-8b4c-40d544220eec",
   "metadata": {},
   "outputs": [
    {
     "name": "stderr",
     "output_type": "stream",
     "text": [
      "C:\\Users\\Computer\\AppData\\Roaming\\Python\\Python312\\site-packages\\keras\\src\\layers\\rnn\\rnn.py:204: UserWarning: Do not pass an `input_shape`/`input_dim` argument to a layer. When using Sequential models, prefer using an `Input(shape)` object as the first layer in the model instead.\n",
      "  super().__init__(**kwargs)\n"
     ]
    }
   ],
   "source": [
    "model = Sequential()\n",
    "model.add(SimpleRNN(units=50, input_shape=(X_train.shape[1], X_train.shape[2]), activation='relu'))\n",
    "model.add(Dense(units=1))"
   ]
  },
  {
   "cell_type": "code",
   "execution_count": 67,
   "id": "c04da702-f8ce-4a89-9d4a-68ba78d8c4f4",
   "metadata": {},
   "outputs": [
    {
     "data": {
      "text/html": [
       "<pre style=\"white-space:pre;overflow-x:auto;line-height:normal;font-family:Menlo,'DejaVu Sans Mono',consolas,'Courier New',monospace\"><span style=\"font-weight: bold\">Model: \"sequential_5\"</span>\n",
       "</pre>\n"
      ],
      "text/plain": [
       "\u001b[1mModel: \"sequential_5\"\u001b[0m\n"
      ]
     },
     "metadata": {},
     "output_type": "display_data"
    },
    {
     "data": {
      "text/html": [
       "<pre style=\"white-space:pre;overflow-x:auto;line-height:normal;font-family:Menlo,'DejaVu Sans Mono',consolas,'Courier New',monospace\">┏━━━━━━━━━━━━━━━━━━━━━━━━━━━━━━━━━━━━━━┳━━━━━━━━━━━━━━━━━━━━━━━━━━━━━┳━━━━━━━━━━━━━━━━━┓\n",
       "┃<span style=\"font-weight: bold\"> Layer (type)                         </span>┃<span style=\"font-weight: bold\"> Output Shape                </span>┃<span style=\"font-weight: bold\">         Param # </span>┃\n",
       "┡━━━━━━━━━━━━━━━━━━━━━━━━━━━━━━━━━━━━━━╇━━━━━━━━━━━━━━━━━━━━━━━━━━━━━╇━━━━━━━━━━━━━━━━━┩\n",
       "│ simple_rnn_5 (<span style=\"color: #0087ff; text-decoration-color: #0087ff\">SimpleRNN</span>)             │ (<span style=\"color: #00d7ff; text-decoration-color: #00d7ff\">None</span>, <span style=\"color: #00af00; text-decoration-color: #00af00\">50</span>)                  │           <span style=\"color: #00af00; text-decoration-color: #00af00\">3,100</span> │\n",
       "├──────────────────────────────────────┼─────────────────────────────┼─────────────────┤\n",
       "│ dense_5 (<span style=\"color: #0087ff; text-decoration-color: #0087ff\">Dense</span>)                      │ (<span style=\"color: #00d7ff; text-decoration-color: #00d7ff\">None</span>, <span style=\"color: #00af00; text-decoration-color: #00af00\">1</span>)                   │              <span style=\"color: #00af00; text-decoration-color: #00af00\">51</span> │\n",
       "└──────────────────────────────────────┴─────────────────────────────┴─────────────────┘\n",
       "</pre>\n"
      ],
      "text/plain": [
       "┏━━━━━━━━━━━━━━━━━━━━━━━━━━━━━━━━━━━━━━┳━━━━━━━━━━━━━━━━━━━━━━━━━━━━━┳━━━━━━━━━━━━━━━━━┓\n",
       "┃\u001b[1m \u001b[0m\u001b[1mLayer (type)                        \u001b[0m\u001b[1m \u001b[0m┃\u001b[1m \u001b[0m\u001b[1mOutput Shape               \u001b[0m\u001b[1m \u001b[0m┃\u001b[1m \u001b[0m\u001b[1m        Param #\u001b[0m\u001b[1m \u001b[0m┃\n",
       "┡━━━━━━━━━━━━━━━━━━━━━━━━━━━━━━━━━━━━━━╇━━━━━━━━━━━━━━━━━━━━━━━━━━━━━╇━━━━━━━━━━━━━━━━━┩\n",
       "│ simple_rnn_5 (\u001b[38;5;33mSimpleRNN\u001b[0m)             │ (\u001b[38;5;45mNone\u001b[0m, \u001b[38;5;34m50\u001b[0m)                  │           \u001b[38;5;34m3,100\u001b[0m │\n",
       "├──────────────────────────────────────┼─────────────────────────────┼─────────────────┤\n",
       "│ dense_5 (\u001b[38;5;33mDense\u001b[0m)                      │ (\u001b[38;5;45mNone\u001b[0m, \u001b[38;5;34m1\u001b[0m)                   │              \u001b[38;5;34m51\u001b[0m │\n",
       "└──────────────────────────────────────┴─────────────────────────────┴─────────────────┘\n"
      ]
     },
     "metadata": {},
     "output_type": "display_data"
    },
    {
     "data": {
      "text/html": [
       "<pre style=\"white-space:pre;overflow-x:auto;line-height:normal;font-family:Menlo,'DejaVu Sans Mono',consolas,'Courier New',monospace\"><span style=\"font-weight: bold\"> Total params: </span><span style=\"color: #00af00; text-decoration-color: #00af00\">3,151</span> (12.31 KB)\n",
       "</pre>\n"
      ],
      "text/plain": [
       "\u001b[1m Total params: \u001b[0m\u001b[38;5;34m3,151\u001b[0m (12.31 KB)\n"
      ]
     },
     "metadata": {},
     "output_type": "display_data"
    },
    {
     "data": {
      "text/html": [
       "<pre style=\"white-space:pre;overflow-x:auto;line-height:normal;font-family:Menlo,'DejaVu Sans Mono',consolas,'Courier New',monospace\"><span style=\"font-weight: bold\"> Trainable params: </span><span style=\"color: #00af00; text-decoration-color: #00af00\">3,151</span> (12.31 KB)\n",
       "</pre>\n"
      ],
      "text/plain": [
       "\u001b[1m Trainable params: \u001b[0m\u001b[38;5;34m3,151\u001b[0m (12.31 KB)\n"
      ]
     },
     "metadata": {},
     "output_type": "display_data"
    },
    {
     "data": {
      "text/html": [
       "<pre style=\"white-space:pre;overflow-x:auto;line-height:normal;font-family:Menlo,'DejaVu Sans Mono',consolas,'Courier New',monospace\"><span style=\"font-weight: bold\"> Non-trainable params: </span><span style=\"color: #00af00; text-decoration-color: #00af00\">0</span> (0.00 B)\n",
       "</pre>\n"
      ],
      "text/plain": [
       "\u001b[1m Non-trainable params: \u001b[0m\u001b[38;5;34m0\u001b[0m (0.00 B)\n"
      ]
     },
     "metadata": {},
     "output_type": "display_data"
    }
   ],
   "source": [
    "# Compile the model\n",
    "model.compile(optimizer='adam', loss='mse')\n",
    "\n",
    "# Print the model summary\n",
    "model.summary()"
   ]
  },
  {
   "cell_type": "markdown",
   "id": "6c74139d-d849-4cb2-818b-0a3858d6b4c6",
   "metadata": {},
   "source": [
    "## Train the Model"
   ]
  },
  {
   "cell_type": "code",
   "execution_count": 70,
   "id": "c7a26cc3-db1f-40d8-955b-8e0baf22c254",
   "metadata": {},
   "outputs": [
    {
     "name": "stdout",
     "output_type": "stream",
     "text": [
      "Epoch 1/50\n",
      "15/15 - 0s - 16ms/step - loss: 507145.0312 - val_loss: 404108.0312\n",
      "Epoch 2/50\n",
      "15/15 - 0s - 8ms/step - loss: 504708.5000 - val_loss: 402207.0000\n",
      "Epoch 3/50\n",
      "15/15 - 0s - 8ms/step - loss: 502481.4062 - val_loss: 400316.5938\n",
      "Epoch 4/50\n",
      "15/15 - 0s - 8ms/step - loss: 500258.8438 - val_loss: 398527.4375\n",
      "Epoch 5/50\n",
      "15/15 - 0s - 8ms/step - loss: 498099.6562 - val_loss: 396733.0938\n",
      "Epoch 6/50\n",
      "15/15 - 0s - 9ms/step - loss: 495973.6562 - val_loss: 394970.4062\n",
      "Epoch 7/50\n",
      "15/15 - 0s - 9ms/step - loss: 493913.8438 - val_loss: 393084.3438\n",
      "Epoch 8/50\n",
      "15/15 - 0s - 8ms/step - loss: 491822.3750 - val_loss: 391328.0938\n",
      "Epoch 9/50\n",
      "15/15 - 0s - 8ms/step - loss: 489713.3125 - val_loss: 389705.7500\n",
      "Epoch 10/50\n",
      "15/15 - 0s - 9ms/step - loss: 487709.4375 - val_loss: 388109.1562\n",
      "Epoch 11/50\n",
      "15/15 - 0s - 9ms/step - loss: 485752.8438 - val_loss: 386566.3438\n",
      "Epoch 12/50\n",
      "15/15 - 0s - 9ms/step - loss: 483837.0625 - val_loss: 384941.1250\n",
      "Epoch 13/50\n",
      "15/15 - 0s - 8ms/step - loss: 481985.7188 - val_loss: 383308.1562\n",
      "Epoch 14/50\n",
      "15/15 - 0s - 9ms/step - loss: 479952.2188 - val_loss: 381938.0625\n",
      "Epoch 15/50\n",
      "15/15 - 0s - 8ms/step - loss: 478227.5625 - val_loss: 380384.8750\n",
      "Epoch 16/50\n",
      "15/15 - 0s - 9ms/step - loss: 476302.9688 - val_loss: 379038.9375\n",
      "Epoch 17/50\n",
      "15/15 - 0s - 8ms/step - loss: 474499.3125 - val_loss: 377594.9375\n",
      "Epoch 18/50\n",
      "15/15 - 0s - 11ms/step - loss: 472798.0000 - val_loss: 376131.3438\n",
      "Epoch 19/50\n",
      "15/15 - 0s - 8ms/step - loss: 470971.0312 - val_loss: 374790.8750\n",
      "Epoch 20/50\n",
      "15/15 - 0s - 8ms/step - loss: 469275.7500 - val_loss: 373452.3750\n",
      "Epoch 21/50\n",
      "15/15 - 0s - 8ms/step - loss: 467548.0312 - val_loss: 372124.3438\n",
      "Epoch 22/50\n",
      "15/15 - 0s - 9ms/step - loss: 465840.5000 - val_loss: 370803.7188\n",
      "Epoch 23/50\n",
      "15/15 - 47s - 3s/step - loss: 464192.9375 - val_loss: 369485.5312\n",
      "Epoch 24/50\n",
      "15/15 - 0s - 8ms/step - loss: 462501.0625 - val_loss: 368200.1250\n",
      "Epoch 25/50\n",
      "15/15 - 0s - 8ms/step - loss: 460878.8438 - val_loss: 366878.6250\n",
      "Epoch 26/50\n",
      "15/15 - 0s - 8ms/step - loss: 459271.3438 - val_loss: 365629.8750\n",
      "Epoch 27/50\n",
      "15/15 - 0s - 8ms/step - loss: 457646.9062 - val_loss: 364474.1562\n",
      "Epoch 28/50\n",
      "15/15 - 0s - 8ms/step - loss: 456067.4062 - val_loss: 363306.0625\n",
      "Epoch 29/50\n",
      "15/15 - 0s - 8ms/step - loss: 454533.3750 - val_loss: 362116.4688\n",
      "Epoch 30/50\n",
      "15/15 - 0s - 8ms/step - loss: 453049.1875 - val_loss: 360871.0625\n",
      "Epoch 31/50\n",
      "15/15 - 0s - 8ms/step - loss: 451370.0312 - val_loss: 359794.4688\n",
      "Epoch 32/50\n",
      "15/15 - 0s - 7ms/step - loss: 449857.7500 - val_loss: 358589.5625\n",
      "Epoch 33/50\n",
      "15/15 - 0s - 8ms/step - loss: 448356.1562 - val_loss: 357365.2500\n",
      "Epoch 34/50\n",
      "15/15 - 0s - 8ms/step - loss: 446762.2188 - val_loss: 356232.3438\n",
      "Epoch 35/50\n",
      "15/15 - 0s - 7ms/step - loss: 445207.1250 - val_loss: 355135.5938\n",
      "Epoch 36/50\n",
      "15/15 - 0s - 7ms/step - loss: 443723.4062 - val_loss: 353968.5625\n",
      "Epoch 37/50\n",
      "15/15 - 0s - 8ms/step - loss: 442234.0625 - val_loss: 352759.9375\n",
      "Epoch 38/50\n",
      "15/15 - 0s - 8ms/step - loss: 440558.5312 - val_loss: 351700.7188\n",
      "Epoch 39/50\n",
      "15/15 - 0s - 7ms/step - loss: 439146.9062 - val_loss: 350478.0938\n",
      "Epoch 40/50\n",
      "15/15 - 0s - 8ms/step - loss: 437473.8750 - val_loss: 349359.5625\n",
      "Epoch 41/50\n",
      "15/15 - 0s - 8ms/step - loss: 435969.0312 - val_loss: 348206.8438\n",
      "Epoch 42/50\n",
      "15/15 - 0s - 8ms/step - loss: 434418.5625 - val_loss: 347075.1250\n",
      "Epoch 43/50\n",
      "15/15 - 0s - 8ms/step - loss: 432915.2500 - val_loss: 345932.5938\n",
      "Epoch 44/50\n",
      "15/15 - 0s - 8ms/step - loss: 431370.1875 - val_loss: 344825.5312\n",
      "Epoch 45/50\n",
      "15/15 - 0s - 8ms/step - loss: 429890.8750 - val_loss: 343741.6875\n",
      "Epoch 46/50\n",
      "15/15 - 0s - 7ms/step - loss: 428458.6562 - val_loss: 342608.5000\n",
      "Epoch 47/50\n",
      "15/15 - 0s - 7ms/step - loss: 426911.9688 - val_loss: 341588.3750\n",
      "Epoch 48/50\n",
      "15/15 - 0s - 8ms/step - loss: 425485.4375 - val_loss: 340466.2500\n",
      "Epoch 49/50\n",
      "15/15 - 0s - 8ms/step - loss: 424002.9688 - val_loss: 339375.9375\n",
      "Epoch 50/50\n",
      "15/15 - 0s - 8ms/step - loss: 422542.2500 - val_loss: 338311.4375\n"
     ]
    }
   ],
   "source": [
    "# Train the model\n",
    "history = model.fit(X_train, y_train, epochs=50,validation_split=0.2, batch_size=32,verbose=2)\n",
    "\n"
   ]
  },
  {
   "cell_type": "markdown",
   "id": "3a81b739-6ab9-4aea-bb45-7bee859b7ce3",
   "metadata": {},
   "source": [
    "## Make Predictions"
   ]
  },
  {
   "cell_type": "code",
   "execution_count": 74,
   "id": "796abae9-d359-445b-833e-778fba1ec510",
   "metadata": {},
   "outputs": [
    {
     "name": "stdout",
     "output_type": "stream",
     "text": [
      "\u001b[1m5/5\u001b[0m \u001b[32m━━━━━━━━━━━━━━━━━━━━\u001b[0m\u001b[37m\u001b[0m \u001b[1m0s\u001b[0m 3ms/step \n",
      "Predictions: [[1042.3796 ]\n",
      " [ 449.88568]\n",
      " [ 843.8773 ]\n",
      " [ 746.41144]\n",
      " [1030.6904 ]]\n",
      "True Values: 584    1278\n",
      "585    1263\n",
      "586    1196\n",
      "587    1065\n",
      "588    2247\n",
      "Name: rentals, dtype: int64\n"
     ]
    }
   ],
   "source": [
    "# Make predictions\n",
    "predictions = model.predict(X_test)\n",
    "\n",
    "# Print predictions\n",
    "print(\"Predictions:\", predictions[:5])\n",
    "print(\"True Values:\", test_labels[:5])"
   ]
  },
  {
   "cell_type": "code",
   "execution_count": null,
   "id": "322b6cb7-4831-471a-a39e-8a48f2b2afa4",
   "metadata": {},
   "outputs": [],
   "source": []
  }
 ],
 "metadata": {
  "kernelspec": {
   "display_name": "Python 3 (ipykernel)",
   "language": "python",
   "name": "python3"
  },
  "language_info": {
   "codemirror_mode": {
    "name": "ipython",
    "version": 3
   },
   "file_extension": ".py",
   "mimetype": "text/x-python",
   "name": "python",
   "nbconvert_exporter": "python",
   "pygments_lexer": "ipython3",
   "version": "3.12.3"
  }
 },
 "nbformat": 4,
 "nbformat_minor": 5
}
